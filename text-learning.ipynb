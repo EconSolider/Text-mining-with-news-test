{
 "cells": [
  {
   "cell_type": "markdown",
   "metadata": {},
   "source": [
    "### Necessary modules"
   ]
  },
  {
   "cell_type": "markdown",
   "metadata": {},
   "source": [
    "Before processing the analysis, user should install some libraries in Prompt.\n",
    "```ruby: Anaconda Prompt\n",
    "! pip install mecab-python3\n",
    "! pip install unidic-lite\n",
    "! pip install --no-binary :all: mecab-python3\n",
    "! conda install  scikit-learn\n",
    "```"
   ]
  },
  {
   "cell_type": "code",
   "execution_count": 1,
   "metadata": {},
   "outputs": [],
   "source": [
    "import MeCab\n",
    "from sklearn.feature_extraction.text import TfidfVectorizer\n",
    "from sklearn.naive_bayes import MultinomialNB\n",
    "from sklearn.pipeline import make_pipeline\n",
    "from sklearn.model_selection import train_test_split\n",
    "from sklearn import metrics\n",
    "from sklearn.model_selection import cross_val_score\n",
    "import pandas as pd"
   ]
  },
  {
   "cell_type": "markdown",
   "metadata": {},
   "source": [
    "### データのサンプル例を作成、textは新聞記事、categoryは分類ラベル。"
   ]
  },
  {
   "cell_type": "code",
   "execution_count": 2,
   "metadata": {},
   "outputs": [
    {
     "data": {
      "text/html": [
       "<div>\n",
       "<style scoped>\n",
       "    .dataframe tbody tr th:only-of-type {\n",
       "        vertical-align: middle;\n",
       "    }\n",
       "\n",
       "    .dataframe tbody tr th {\n",
       "        vertical-align: top;\n",
       "    }\n",
       "\n",
       "    .dataframe thead th {\n",
       "        text-align: right;\n",
       "    }\n",
       "</style>\n",
       "<table border=\"1\" class=\"dataframe\">\n",
       "  <thead>\n",
       "    <tr style=\"text-align: right;\">\n",
       "      <th></th>\n",
       "      <th>text</th>\n",
       "      <th>category</th>\n",
       "    </tr>\n",
       "  </thead>\n",
       "  <tbody>\n",
       "    <tr>\n",
       "      <th>0</th>\n",
       "      <td>日本経済成長が鈍化</td>\n",
       "      <td>経済</td>\n",
       "    </tr>\n",
       "    <tr>\n",
       "      <th>1</th>\n",
       "      <td>東京オリンピックが開幕、経済回復</td>\n",
       "      <td>経済</td>\n",
       "    </tr>\n",
       "    <tr>\n",
       "      <th>2</th>\n",
       "      <td>技術革新が産業発展を推進</td>\n",
       "      <td>科学技術</td>\n",
       "    </tr>\n",
       "    <tr>\n",
       "      <th>3</th>\n",
       "      <td>宇宙探査技術の新たな里程碑</td>\n",
       "      <td>科学技術</td>\n",
       "    </tr>\n",
       "    <tr>\n",
       "      <th>4</th>\n",
       "      <td>日本の経済文化について</td>\n",
       "      <td>経済</td>\n",
       "    </tr>\n",
       "  </tbody>\n",
       "</table>\n",
       "</div>"
      ],
      "text/plain": [
       "               text category\n",
       "0         日本経済成長が鈍化       経済\n",
       "1  東京オリンピックが開幕、経済回復       経済\n",
       "2      技術革新が産業発展を推進     科学技術\n",
       "3     宇宙探査技術の新たな里程碑     科学技術\n",
       "4       日本の経済文化について       経済"
      ]
     },
     "execution_count": 2,
     "metadata": {},
     "output_type": "execute_result"
    }
   ],
   "source": [
    "data = {\n",
    "    'text': ['日本経済成長が鈍化', '東京オリンピックが開幕、経済回復', '技術革新が産業発展を推進', '宇宙探査技術の新たな里程碑',\n",
    "             '日本の経済文化について', '新型コロナウイルスの経済影響', '人工知能技術の未来', '自然エネルギー技術の重要性',\n",
    "             '地球温暖化と経済', '最新の医療技術', '宇宙開発技術の進展', '人口問題と社会経済政策',\n",
    "             '経済成長と環境保護', '財政政策の未来展望', '技術がさらに躍進', '国際貿易政策と平和の重要性'],\n",
    "    'category': ['経済', '経済', '科学技術', '科学技術',\n",
    "                 '経済', '経済', '科学技術', '科学技術',\n",
    "                 '経済', '科学技術', '科学技術', '経済',\n",
    "                 '経済', '経済', '科学技術', '経済']\n",
    "}\n",
    "df = pd.DataFrame(data)\n",
    "df.head()"
   ]
  },
  {
   "cell_type": "markdown",
   "metadata": {},
   "source": [
    "### Step 1: MeCabを使用してテキストのトークン化と形態素解析を行う関数を定義"
   ]
  },
  {
   "cell_type": "code",
   "execution_count": 3,
   "metadata": {},
   "outputs": [
    {
     "name": "stdout",
     "output_type": "stream",
     "text": [
      "['日本', '経済', 'が', '回復']\n"
     ]
    }
   ],
   "source": [
    "def tokenize(text):\n",
    "    tagger = MeCab.Tagger('-Owakati')  # 分かち書き出力を使用\n",
    "    result = tagger.parse(text)\n",
    "    return result.strip().split()  # 分かち書きされた単語のリストを返す\n",
    "\n",
    "# Usage:\n",
    "sample_text = \"日本経済が回復\"\n",
    "token = tokenize(sample_text)\n",
    "print(token)\n"
   ]
  },
  {
   "cell_type": "markdown",
   "metadata": {},
   "source": [
    "### Step 2: TF-IDFベクトル化器とナイーブベイズ分類器（Multinomial Naive Bayes）を含むパイプラインを作成"
   ]
  },
  {
   "cell_type": "code",
   "execution_count": 4,
   "metadata": {},
   "outputs": [
    {
     "name": "stdout",
     "output_type": "stream",
     "text": [
      "教師新聞と分類: \n",
      " 13       財政政策の未来展望\n",
      "11     人口問題と社会経済政策\n",
      "8         地球温暖化と経済\n",
      "9          最新の医療技術\n",
      "2     技術革新が産業発展を推進\n",
      "Name: text, dtype: object \n",
      " 13      経済\n",
      "11      経済\n",
      "8       経済\n",
      "9     科学技術\n",
      "2     科学技術\n",
      "Name: category, dtype: object\n",
      "\n",
      " テスト用新聞と分類: \n",
      " 0            日本経済成長が鈍化\n",
      "1     東京オリンピックが開幕、経済回復\n",
      "5       新型コロナウイルスの経済影響\n",
      "14            技術がさらに躍進\n",
      "Name: text, dtype: object \n",
      " 0       経済\n",
      "1       経済\n",
      "5       経済\n",
      "14    科学技術\n",
      "Name: category, dtype: object\n"
     ]
    }
   ],
   "source": [
    "# テキストとラベルをそれぞれXとyとして格納\n",
    "X = df['text']\n",
    "y = df['category']\n",
    "\n",
    "# 訓練データとテストデータに分割\n",
    "X_train, X_test, y_train, y_test = train_test_split(X, y, test_size=0.2, random_state=42)\n",
    "print(f\"教師新聞と分類: \\n {X_train.head()} \\n {y_train.head()}\")\n",
    "print(f\"\\n テスト用新聞と分類: \\n {X_test.head()} \\n {y_test.head()}\")\n",
    "\n",
    "# TF-IDFベクトル化器とナイーブベイズ分類器（Multinomial Naive Bayes）を含むパイプラインを作成\n",
    "model = make_pipeline(TfidfVectorizer(tokenizer=tokenize, token_pattern=None), MultinomialNB())"
   ]
  },
  {
   "cell_type": "markdown",
   "metadata": {},
   "source": [
    "### Optional: 交差検証"
   ]
  },
  {
   "cell_type": "code",
   "execution_count": 5,
   "metadata": {},
   "outputs": [
    {
     "name": "stdout",
     "output_type": "stream",
     "text": [
      "交叉验证准确率: [1.         1.         0.66666667 1.         1.        ]\n",
      "平均准确率: 0.9333333333333332\n"
     ]
    }
   ],
   "source": [
    "scores = cross_val_score(model, X, y, cv=5, scoring='accuracy')\n",
    "\n",
    "# 输出交叉验证的结果\n",
    "print(\"交叉验证准确率:\", scores)\n",
    "print(\"平均准确率:\", scores.mean())"
   ]
  },
  {
   "cell_type": "markdown",
   "metadata": {},
   "source": [
    "### Step 3: モデルを訓練、予測、正解率を出す"
   ]
  },
  {
   "cell_type": "markdown",
   "metadata": {},
   "source": [
    "サンプル例が少なすぎるため、正解率は低いが、これで記事に対する分類の流れがまとめられた。"
   ]
  },
  {
   "cell_type": "code",
   "execution_count": 33,
   "metadata": {},
   "outputs": [
    {
     "name": "stdout",
     "output_type": "stream",
     "text": [
      "Pipeline(steps=[('tfidfvectorizer',\n",
      "                 TfidfVectorizer(token_pattern=None,\n",
      "                                 tokenizer=<function tokenize at 0x000002AEB8528680>)),\n",
      "                ('multinomialnb', MultinomialNB())])\n",
      "正解率: 1.0\n",
      "正解: ['経済', '経済', '経済', '科学技術']\n",
      "予測: ['経済' '経済' '経済' '科学技術']\n"
     ]
    }
   ],
   "source": [
    "model.fit(X_train, y_train)\n",
    "print(model)\n",
    "\n",
    "y_pred = model.predict(X_test)\n",
    "\n",
    "print(\"正解率:\", metrics.accuracy_score(y_test, y_pred))\n",
    "print(f\"正解: {y_test.values.tolist()}\")\n",
    "print(f\"予測: {y_pred}\")\n"
   ]
  },
  {
   "cell_type": "markdown",
   "metadata": {},
   "source": [
    "### Step 4: サンプル外予測"
   ]
  },
  {
   "cell_type": "code",
   "execution_count": 34,
   "metadata": {},
   "outputs": [
    {
     "name": "stdout",
     "output_type": "stream",
     "text": [
      "文本: 新しい経済政策が発表されました - 预测分类: 経済\n",
      "文本: 経済回復のための財政政策 - 预测分类: 経済\n",
      "文本: 技術 - 预测分类: 科学技術\n",
      "文本: 財政 - 预测分类: 経済\n"
     ]
    }
   ],
   "source": [
    "# 新たな分類用サンプルを作成\n",
    "new_texts = [\n",
    "    '新しい経済政策が発表されました',\n",
    "    '経済回復のための財政政策',\n",
    "    '技術',\n",
    "    '財政'\n",
    "]\n",
    "\n",
    "# 预测\n",
    "predicted_categories = model.predict(new_texts)\n",
    "\n",
    "# 预测结果\n",
    "for text, category in zip(new_texts, predicted_categories):\n",
    "    print(f'文本: {text} - 预测分类: {category}')"
   ]
  }
 ],
 "metadata": {
  "kernelspec": {
   "display_name": "base",
   "language": "python",
   "name": "python3"
  },
  "language_info": {
   "codemirror_mode": {
    "name": "ipython",
    "version": 3
   },
   "file_extension": ".py",
   "mimetype": "text/x-python",
   "name": "python",
   "nbconvert_exporter": "python",
   "pygments_lexer": "ipython3",
   "version": "3.12.3"
  }
 },
 "nbformat": 4,
 "nbformat_minor": 2
}
